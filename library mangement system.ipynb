{
 "cells": [
  {
   "cell_type": "code",
   "execution_count": 1,
   "id": "f9eccff4",
   "metadata": {},
   "outputs": [],
   "source": [
    "import csv\n",
    "from csv import writer\n",
    "from csv import reader\n",
    "import math\n",
    "import os\n",
    "import os.path"
   ]
  },
  {
   "cell_type": "markdown",
   "id": "bc37b23d",
   "metadata": {},
   "source": [
    "#  1- Read Data"
   ]
  },
  {
   "cell_type": "code",
   "execution_count": 2,
   "id": "e5e8c9e5",
   "metadata": {},
   "outputs": [],
   "source": [
    "def count ():\n",
    "    filename = \"lib.csv\"\n",
    "    with open(filename, 'r') as csvfile:\n",
    "        csvreader = csv.reader(csvfile)\n",
    "        line_count = 0\n",
    "        for row in csvreader:\n",
    "                line_count += 1\n",
    "        return line_count-1"
   ]
  },
  {
   "cell_type": "markdown",
   "id": "bc11bfd6",
   "metadata": {},
   "source": [
    " # 2- List Data"
   ]
  },
  {
   "cell_type": "code",
   "execution_count": 3,
   "id": "6aed18f3",
   "metadata": {},
   "outputs": [],
   "source": [
    "def show(filename):\n",
    "    # initializing the titles and rows list\n",
    "    fields = []\n",
    "    rows = []\n",
    "\n",
    "    with open(filename, 'r') as csvfile:\n",
    "        csvreader = csv.reader(csvfile)\n",
    "        fields = next(csvreader)\n",
    "\n",
    "        # extracting each data row one by one\n",
    "        for row in csvreader:\n",
    "            rows.append(row)\n",
    "\n",
    "    #printing the field names\n",
    "    print('Field names are:' + ', '.join(field for field in fields))\n",
    "\n",
    "    #  printing data with customized format \n",
    "    print('\\n rows are:\\n')\n",
    "    for row in rows[:]:\n",
    "        for col in row:\n",
    "            print(\"%10s\"%col,end=\" \"),\n",
    "        print('\\n')"
   ]
  },
  {
   "cell_type": "markdown",
   "id": "8048e8ea",
   "metadata": {},
   "source": [
    "#  3- Search By Name"
   ]
  },
  {
   "cell_type": "code",
   "execution_count": 4,
   "id": "ffb78d3b",
   "metadata": {},
   "outputs": [],
   "source": [
    "def search_book(filename,key):\n",
    "    # initializing the titles and rows list\n",
    "    fields = []\n",
    "    rows = []\n",
    "\n",
    "    with open(filename, 'r') as csvfile:\n",
    "        csvreader = csv.reader(csvfile)\n",
    "        fields = next(csvreader)\n",
    "\n",
    "        # extracting each data row one by one\n",
    "        for row in csvreader:\n",
    "            rows.append(row)\n",
    "\n",
    "    #printing the field names\n",
    "    print('Field names are:' + ', '.join(field for field in fields))\n",
    "\n",
    "    #  printing result if found\n",
    "    print('\\n Books are:\\n')\n",
    "    for row in rows[:]:\n",
    "        for col in row[1:2]:\n",
    "            if key in col :\n",
    "                print (row)\n",
    "   "
   ]
  },
  {
   "cell_type": "code",
   "execution_count": 5,
   "id": "42db2f2c",
   "metadata": {},
   "outputs": [],
   "source": [
    "def search_auth(filename,key):\n",
    "    # initializing the titles and rows list\n",
    "    fields = []\n",
    "    rows = []\n",
    "\n",
    "    with open(filename, 'r') as csvfile:\n",
    "        csvreader = csv.reader(csvfile)\n",
    "        fields = next(csvreader)\n",
    "\n",
    "        # extracting each data row one by one\n",
    "        for row in csvreader:\n",
    "            rows.append(row)\n",
    "\n",
    "    #printing the field names\n",
    "    print('Field names are:' + ', '.join(field for field in fields))\n",
    "\n",
    "    #  printing result if found\n",
    "    print('\\n Books are:\\n')\n",
    "    for row in rows[:]:\n",
    "        for col in row[2:3]:\n",
    "            if key in col :\n",
    "                print (row)\n",
    "   "
   ]
  },
  {
   "cell_type": "markdown",
   "id": "7f8d1081",
   "metadata": {},
   "source": [
    "# Helper Fuctions"
   ]
  },
  {
   "cell_type": "code",
   "execution_count": 7,
   "id": "c465a614",
   "metadata": {},
   "outputs": [],
   "source": [
    "def bye():\n",
    "     print (\"THANK YOU FOR USING THIS APPLICATION .. GOOD BYE\")"
   ]
  },
  {
   "cell_type": "code",
   "execution_count": 6,
   "id": "02fa9dfd",
   "metadata": {},
   "outputs": [],
   "source": [
    "def show_menu():\n",
    "    print('''\n",
    "        HELLO..NICE TO MEET YOU , HOW CAN I HELP YOU ?  \n",
    "        1 ==> Read DATA\n",
    "        2 ==> LIST DATA  \n",
    "        3 ==> SEARCH BY BOOK\n",
    "        4 ==> SEARCH BY AUTHOR\n",
    "        5 ==> END \n",
    "        ''')\n",
    "\n"
   ]
  },
  {
   "cell_type": "code",
   "execution_count": 8,
   "id": "86368a1d",
   "metadata": {},
   "outputs": [],
   "source": [
    "def run_last():\n",
    "    window = 0 \n",
    "    filename = \"lib.csv\"\n",
    "    while window == 0 :\n",
    "        show_menu()\n",
    "        cursor = input(\" ENTER THE NUMBER OF THE METHOOD YOU NEED ! \")\n",
    "        if cursor == \"2\" :\n",
    "            print(\"-----------------------------------------\")\n",
    "            show(filename)\n",
    "            print(\"-----------------------------------------\")\n",
    "# -----------------------------------          \n",
    "        if cursor == \"1\" :\n",
    "            print(\"-----------------------------------------\")\n",
    "            line_count=count()\n",
    "            print(f'Successfully Read Data & Total Number of Books equals :  {line_count} .')\n",
    "            print(\"-----------------------------------------\")\n",
    "\n",
    "        if cursor == \"3\" :\n",
    "            print(\"-----------------------------------------\")\n",
    "            keyword=input(\" ENTER THE BOOK NAME \")\n",
    "            search_book(filename,keyword)\n",
    "            print(\"-----------------------------------------\")\n",
    "            \n",
    "        if cursor == \"4\" :\n",
    "            print(\"-----------------------------------------\")\n",
    "            keyword=input(\" ENTER THE AUTHOR NAME \")\n",
    "            search_auth(filename,keyword)\n",
    "            print(\"-----------------------------------------\")\n",
    "# -----------------------------------\n",
    "        if cursor == \"5\" : \n",
    "            print(\"-----------------------------------------\")\n",
    "            bye()\n",
    "            window = 1\n",
    "            print(\"-----------------------------------------\")\n",
    "            \n"
   ]
  },
  {
   "cell_type": "code",
   "execution_count": 9,
   "id": "1e4ccc50",
   "metadata": {},
   "outputs": [
    {
     "name": "stdout",
     "output_type": "stream",
     "text": [
      "\n",
      "        HELLO..NICE TO MEET YOU , HOW CAN I HELP YOU ?\n",
      "    \n",
      "        1 ==> Read DATA\n",
      "        2 ==> LIST DATA  \n",
      "        3 ==> SEARCH BY BOOK\n",
      "        4 ==> SEARCH BY AUTHOR\n",
      "        5 ==> END \n",
      "        \n",
      " ENTER THE NUMBER OF THE METHOOD YOU NEED ! 4\n",
      "-----------------------------------------\n",
      " ENTER THE AUTHOR NAME 2\n",
      "Field names are:ï»¿book_id, title, author, category, quantity, unit_price, total\n",
      "\n",
      " Books are:\n",
      "\n",
      "['2', 'b2', 'a2', 'ff', '5', '20', '100']\n",
      "-----------------------------------------\n",
      "\n",
      "        HELLO..NICE TO MEET YOU , HOW CAN I HELP YOU ?\n",
      "    \n",
      "        1 ==> Read DATA\n",
      "        2 ==> LIST DATA  \n",
      "        3 ==> SEARCH BY BOOK\n",
      "        4 ==> SEARCH BY AUTHOR\n",
      "        5 ==> END \n",
      "        \n",
      " ENTER THE NUMBER OF THE METHOOD YOU NEED ! 4\n",
      "-----------------------------------------\n",
      " ENTER THE AUTHOR NAME a3\n",
      "Field names are:ï»¿book_id, title, author, category, quantity, unit_price, total\n",
      "\n",
      " Books are:\n",
      "\n",
      "['3', 'b3', 'a3', 'dd', '4', '30', '120']\n",
      "-----------------------------------------\n",
      "\n",
      "        HELLO..NICE TO MEET YOU , HOW CAN I HELP YOU ?\n",
      "    \n",
      "        1 ==> Read DATA\n",
      "        2 ==> LIST DATA  \n",
      "        3 ==> SEARCH BY BOOK\n",
      "        4 ==> SEARCH BY AUTHOR\n",
      "        5 ==> END \n",
      "        \n",
      " ENTER THE NUMBER OF THE METHOOD YOU NEED ! 3\n",
      "-----------------------------------------\n",
      " ENTER THE BOOK NAME b3\n",
      "Field names are:ï»¿book_id, title, author, category, quantity, unit_price, total\n",
      "\n",
      " Books are:\n",
      "\n",
      "['3', 'b3', 'a3', 'dd', '4', '30', '120']\n",
      "-----------------------------------------\n",
      "\n",
      "        HELLO..NICE TO MEET YOU , HOW CAN I HELP YOU ?\n",
      "    \n",
      "        1 ==> Read DATA\n",
      "        2 ==> LIST DATA  \n",
      "        3 ==> SEARCH BY BOOK\n",
      "        4 ==> SEARCH BY AUTHOR\n",
      "        5 ==> END \n",
      "        \n",
      " ENTER THE NUMBER OF THE METHOOD YOU NEED ! 5\n",
      "-----------------------------------------\n",
      "THANK YOU FOR USING THIS APPLICATION .. GOOD BYE\n",
      "-----------------------------------------\n"
     ]
    }
   ],
   "source": [
    "run_last()"
   ]
  },
  {
   "cell_type": "code",
   "execution_count": null,
   "id": "62f8ebc4",
   "metadata": {},
   "outputs": [],
   "source": []
  }
 ],
 "metadata": {
  "kernelspec": {
   "display_name": "Python 3 (ipykernel)",
   "language": "python",
   "name": "python3"
  },
  "language_info": {
   "codemirror_mode": {
    "name": "ipython",
    "version": 3
   },
   "file_extension": ".py",
   "mimetype": "text/x-python",
   "name": "python",
   "nbconvert_exporter": "python",
   "pygments_lexer": "ipython3",
   "version": "3.8.3"
  }
 },
 "nbformat": 4,
 "nbformat_minor": 5
}
